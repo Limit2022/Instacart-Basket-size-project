{
 "cells": [
  {
   "cell_type": "markdown",
   "id": "5b58fce6",
   "metadata": {},
   "source": [
    "# Instacart Customer Basket Analysis"
   ]
  },
  {
   "cell_type": "markdown",
   "id": "e8889e25",
   "metadata": {},
   "source": [
    "kaggle page\n",
    "https://www.kaggle.com/c/instacart-market-basket-analysis"
   ]
  },
  {
   "cell_type": "markdown",
   "id": "dc63d91a",
   "metadata": {},
   "source": [
    "![title](DBMS.jpeg)"
   ]
  },
  {
   "cell_type": "markdown",
   "id": "8c28c2b7",
   "metadata": {},
   "source": [
    "#### Mapping Real-world problem as ML problem)\n",
    "\n",
    "Recommendation-based prolem -- recommend the products that will be reodrered most likely\n",
    "Multi-label classification problem -- predict zero or more reorder items for each user\n",
    "\n",
    "BINARY CLASSIFICATION PROBLEM\n",
    "given a user and a product (i.e. product belongs to the history of products purchased by that user)\n",
    "ML needs to predict whether the given product will be reordered or not in the next order"
   ]
  },
  {
   "cell_type": "markdown",
   "id": "f91faa74",
   "metadata": {},
   "source": [
    "#### Performance metrics\n",
    "\n",
    "mean F1 score (to avoid false positives and false negatives)\n",
    "\n",
    "how to optimize the F1 score?\n",
    "Empirical Utilit Maxiimization (EUM) \n",
    "    - train a classifier on the training dataset \n",
    "    - using the probability \n",
    "    - find an optimal threshold \n",
    "\n",
    "kernal implement EUM\n",
    "https://www.kaggle.com/code/mmueller/f1-score-expectation-maximization-in-o-n/script"
   ]
  },
  {
   "cell_type": "markdown",
   "id": "4918765d",
   "metadata": {},
   "source": [
    "#### Preprocessing\n",
    "\n",
    "missing value in days_since_prior_order\n",
    "    \"I replaced these missing values with the median over day_since_prior_order of other orders for that user because it will preserve the information about days between orders of that user. Here, I used median in place of average because it is less impacted by noise.\"\n",
    "    \n",
    " ????????"
   ]
  },
  {
   "cell_type": "markdown",
   "id": "ed92c3c5",
   "metadata": {},
   "source": [
    "#### Exploratory Data Analysis\n",
    "\n",
    "ste"
   ]
  },
  {
   "cell_type": "markdown",
   "id": "2dbfdf2f",
   "metadata": {},
   "source": [
    "#### First Cut Approach\n",
    "simple solution: recommend avg no products that a user generally reordered most times in the past\n",
    "\n",
    "mean F1-score = 0.11"
   ]
  },
  {
   "cell_type": "markdown",
   "id": "c3c49dd2",
   "metadata": {},
   "source": [
    "#### Feature Engineering\n",
    "\n",
    "no existing features that strongly related to the output \n",
    "need to create many features and check which is working best\n",
    "\n",
    "simple ideas: count/ratio, aggregation, and recent activity\n",
    "\n",
    "new feature will preserve information about the user, product, and how a given user is related to a given product"
   ]
  },
  {
   "cell_type": "markdown",
   "id": "519ce158",
   "metadata": {},
   "source": [
    "I. User related feature:\n",
    "1. no_of_order_by_user\n",
    "2. avg_order_size_of_user\n",
    "3. no_of_item_ordered_user\n",
    "4. no_of_item_reordered_user\n",
    "5. overall_reorder_rate_user\n",
    "6. avg_day_between_orders_of_user\n",
    "7.median_hour_of_day_user_visit\n",
    "8.median_order_dow_user\n",
    "9.avg_reorder_rate_per_order_user"
   ]
  },
  {
   "cell_type": "markdown",
   "id": "8c71d497",
   "metadata": {},
   "source": [
    "II. Product-related feature:\n",
    "1. no_of_times_ordered_itemA\n",
    "2. no_of_times_reordered_itemA\n",
    "3. no_of_user_ordered_itemA\n",
    "4. avg_cart_pos_itemA\n",
    "5. avg_order_dow_itemA\n",
    "6. avg_order_hour_of_day_itemA\n",
    "7. avg_days_since_prior_order_itemA\n",
    "\n",
    "8. no_of_user_order_aisle_itemA / no_of_user_order_department_itemA\n",
    "9. mean_add_to_cart_order_of_aisle_itemA/mean_add_to_cart_order_of_department_itemA\n",
    "10. nb_order_aisle_itemA/nb_order_department_itemA\n",
    "11. nb_reorder_aisle_itemA/nb_reorder_department_itemA"
   ]
  },
  {
   "cell_type": "markdown",
   "id": "90e63dce",
   "metadata": {},
   "source": [
    "III. User and item related feature\n",
    "1. nb_times_userA_order_itemB: determines the requirement of item B to user A.\n",
    "2. avg_pos_cart_userA_itemB: determines the importance of item B to user A.\n",
    "3. nb_order_userA_itemB_last5: \n",
    "4. median_day_since_prior_order_userA_itemB: \n",
    "5. streak_userA_itemB: \n",
    "6. mean_order_diff_userA_itemB: \n",
    "7. nb_order_userA_not_ordered_itemB: \n",
    "8. difference_mean_order_diff_nb_order_not_ordered_userA_itemB: \n",
    "9. order_ratio_userA_itemB: This feature is computed by dividing the no of orders of userA containing item B by the total no of orders of user A.\n",
    "\n",
    "\n",
    "10. no_order_department_userA_itemB/no_order_aisle_userA_itemB: \n",
    "11. avg_add_to_cart_order_department_userA_itemB/avg_add_to_cart_order_aisle_userA_itemB: "
   ]
  },
  {
   "cell_type": "markdown",
   "id": "4743574a",
   "metadata": {},
   "source": [
    "#### Machine Learning Modelling and Hyperparameter Tuning:\n",
    "\n",
    "I have experimented with four machine learning models\n",
    "\n",
    "1. Logistic regression\n",
    "2. Xgboost\n",
    "3. Random forest\n",
    "4. Catboost\n",
    "\n",
    "To choose the right hyperparameter, first I split my whole training data into 3 parts - train, validation, and test data. Now for each hyperparameter, I trained the ML model using the train dataset and evaluated my model performance using the validation dataset. Then, for the best hyperparameter, I used the test dataset to get the test score. To predict on Kaggle test data, I chose the best hyperparameter set I got and used the whole train dataset to train my final model.\n",
    "\n",
    "Logistic Regression:-\n",
    "Mean-F1 score = 0.22305\n",
    "\n",
    "Xgboost:-\n",
    "Mean-F1 score = 0.40153\n",
    "\n",
    "Random Forest:-\n",
    "Mean-F1 score = 0.38902\n",
    "\n",
    "Catboost:-\n",
    "Mean-F1 score = 0.40267\n",
    "\n",
    "Addition of PCA features:-\n",
    "Then to improve the performance further, I added the PCA feature using the purchase pattern of users from the different aisles and also performed hyperparameter tuning for no of the components of PCA.\n",
    "\n",
    "The Mean-F1 score with Catboost on the old features +newly added PCA features is 0.40348"
   ]
  },
  {
   "cell_type": "code",
   "execution_count": null,
   "id": "3dccc2f9",
   "metadata": {},
   "outputs": [],
   "source": []
  }
 ],
 "metadata": {
  "kernelspec": {
   "display_name": "Python 3 (ipykernel)",
   "language": "python",
   "name": "python3"
  },
  "language_info": {
   "codemirror_mode": {
    "name": "ipython",
    "version": 3
   },
   "file_extension": ".py",
   "mimetype": "text/x-python",
   "name": "python",
   "nbconvert_exporter": "python",
   "pygments_lexer": "ipython3",
   "version": "3.9.7"
  }
 },
 "nbformat": 4,
 "nbformat_minor": 5
}
